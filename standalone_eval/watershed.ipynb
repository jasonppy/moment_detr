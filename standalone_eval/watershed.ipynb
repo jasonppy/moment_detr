{
 "cells": [
  {
   "cell_type": "code",
   "execution_count": 1,
   "metadata": {},
   "outputs": [],
   "source": [
    "import numpy as np"
   ]
  },
  {
   "cell_type": "code",
   "execution_count": 4,
   "metadata": {},
   "outputs": [],
   "source": [
    "def _union(windows):\n",
    "    \"\"\"\n",
    "    modifed from https://stackoverflow.com/questions/15273693/union-of-multiple-ranges\n",
    "\n",
    "    return a list of windows that is the union of the input\n",
    "    \n",
    "    input windows: [[7.1, 11.5, [0.32]], [11.0, 13.0, [0.41]], [11.0, 14.9, [0.32]], [15.0, 20.0, [0.27, 0.35]], [23.0, 39.0, [0.40, 0.44]]]\n",
    "    input doesn't need to be sorted\n",
    "\n",
    "    return: [[7.1, 14.9, [0.32, 0.41, 0.32]], [15.0, 20.0, [0.27, 0.35]], [23., 39., [0.40, 0.44]]]\n",
    "    the similarity score is just the mean of combined segments\n",
    "    \"\"\"\n",
    "    b = []\n",
    "    for begin, end, score in sorted(windows):\n",
    "        if b and b[-1][1] >= begin:\n",
    "            b[-1][1] = max(b[-1][1], end)\n",
    "            b[-1][2] += score\n",
    "        else:\n",
    "            b.append([begin, end, score])\n",
    "    return b\n",
    "\n",
    "def temporal_nms(bboxes, thresh, score_ind=2):\n",
    "    \"\"\"\n",
    "    One-dimensional non-maximal suppression\n",
    "    :param bboxes: [[st, ed, score], ...]\n",
    "    :param thresh:\n",
    "    :return:\n",
    "\n",
    "\n",
    "    copied (and slightly modified) from https://github.com/yjxiong/action-detection/blob/3d8ff836387fb977979ef792152a6b6ac43725fc/ops/sequence_funcs.py#L71\n",
    "    \"\"\"\n",
    "    t1 = np.array([x[0] for x in bboxes])\n",
    "    t2 = np.array([x[1] for x in bboxes])\n",
    "    scores = np.array([x[score_ind] for x in bboxes])\n",
    "\n",
    "    durations = t2 - t1 + 1\n",
    "    order = scores.argsort()[::-1]\n",
    "\n",
    "    keep = []\n",
    "    while order.size > 0:\n",
    "        i = order[0]\n",
    "        keep.append(i)\n",
    "        tt1 = np.maximum(t1[i], t1[order[1:]])\n",
    "        tt2 = np.minimum(t2[i], t2[order[1:]])\n",
    "        intersection = tt2 - tt1 + 1\n",
    "        IoU = intersection / (durations[i] + durations[order[1:]] - intersection).astype(float)\n",
    "\n",
    "        inds = np.where(IoU <= thresh)[0]\n",
    "        order = order[inds + 1]\n",
    "\n",
    "    return [bboxes[i] for i in keep]\n",
    "\n",
    "\n",
    "def watershed_single(windows, gamma, tau):\n",
    "    \"\"\"\n",
    "    run 1D watershed algo on predicted windows\n",
    "    method introduced in https://arxiv.org/pdf/1704.06228.pdf\n",
    "    \n",
    "    input:\n",
    "        gamma: similarity threshold\n",
    "        tau: window_dur/total_dur threshold\n",
    "        windows: [[1.2, 15.3, 0.32], [15.3, 18.6, 0.34], [18.6, 23.7, 0.12], [23.7, 24.6, 0.44], [25.7, 28.4, 0.32], [30.1, 34.5, 0.45], [34.5, 35.6, 0.01], [35.6, 38.4, 0.34]]\n",
    "            segments of [start_time, end_time, similarity_score]\n",
    "            the windows can overlap\n",
    "            windows should be sorted based on start_time\n",
    "\n",
    "        tau and gamma are floating point between 0 and 1\n",
    "    \n",
    "    output:\n",
    "    (suppose gamma = 0.32 and tau = 0.85)\n",
    "        merged_windows: [[1.2, 18.6, [0.32, 0.34]],\n",
    "                    [23.7, 24.6, [0.44]],\n",
    "                    [25.7, 28.4, [0.32]],\n",
    "                    [30.1, 38.4, [0.45, 0.34]]]\n",
    "        merged segments\n",
    "    \"\"\"\n",
    "    scores = [item[2] for item in windows]\n",
    "    remain_windows = np.array(windows)[np.where(np.array(scores) >= gamma)[0]]\n",
    "    if len(remain_windows) == 0:\n",
    "        return None\n",
    "    remain_windows = [[w[0], w[1], [w[2]]] for w in remain_windows] # [[1.2, 15.3, 0.32], [15.3, 18.6, 0.34], ....] -> [[1.2, 15.3, [0.32]], [15.3, 18.6, [0.34]], ....]\n",
    "    groups = []\n",
    "    for i, cur_win in enumerate(remain_windows):\n",
    "        window_union = _union(groups[-1]+[cur_win]) if groups else [cur_win]\n",
    "        window_duration = sum([item[1] - item[0] for item in window_union])\n",
    "        total_duration = window_union[-1][1] - window_union[0][0]\n",
    "        if window_duration/total_duration <= tau or i == 0:\n",
    "            groups.append([cur_win])\n",
    "        else:\n",
    "            groups[-1] = window_union\n",
    "        merged_groups = [[cur_group[0][0],cur_group[-1][1], [ss for s in cur_group for ss in s[2]]] for cur_group in groups]\n",
    "    return merged_groups\n"
   ]
  },
  {
   "cell_type": "code",
   "execution_count": 14,
   "metadata": {},
   "outputs": [
    {
     "name": "stdout",
     "output_type": "stream",
     "text": [
      "[[[1.2, 15.3, [0.32]]]]\n",
      "[[[1.2, 18.6, [0.32, 0.34]]]]\n",
      "[[[1.2, 18.6, [0.32, 0.34]]], [[23.7, 24.6, [0.44]]]]\n",
      "[[[1.2, 18.6, [0.32, 0.34]]], [[23.7, 24.6, [0.44]]], [[25.7, 28.4, [0.32]]]]\n",
      "[[[1.2, 18.6, [0.32, 0.34]]], [[23.7, 24.6, [0.44]]], [[25.7, 28.4, [0.32]]], [[30.1, 34.5, [0.45]]]]\n",
      "[[[1.2, 18.6, [0.32, 0.34]]], [[23.7, 24.6, [0.44]]], [[25.7, 28.4, [0.32]]], [[30.1, 34.5, [0.45]], [35.6, 38.4, [0.34]]]]\n"
     ]
    }
   ],
   "source": [
    "windows = [[1.2, 15.3, 0.32], [15.3, 18.6, 0.34], [18.6, 23.7, 0.12], [23.7, 24.6, 0.44], [25.7, 28.4, 0.32], [30.1, 34.5, 0.45], [34.5, 35.6, 0.01], [35.6, 38.4, 0.34]]\n",
    "gamma = 0.32\n",
    "tau = 0.85\n",
    "scores = [item[2] for item in windows]\n",
    "remain_windows = np.array(windows)[np.where(np.array(scores) >= gamma)[0]]\n",
    "remain_windows = [[w[0], w[1], [w[2]]] for w in remain_windows] # [[1.2, 15.3, 0.32], [15.3, 18.6, 0.34], ....] -> [[1.2, 15.3, [0.32]], [15.3, 18.6, [0.34]], ....] \n",
    "groups = []\n",
    "for i, cur_win in enumerate(remain_windows):\n",
    "    window_union = _union(groups[-1]+[cur_win]) if groups else [cur_win]\n",
    "    window_duration = sum([item[1] - item[0] for item in window_union])\n",
    "    total_duration = window_union[-1][1] - window_union[0][0]\n",
    "    if window_duration/total_duration <= tau or i == 0:\n",
    "        groups.append([cur_win])\n",
    "        print(groups)\n",
    "    else:\n",
    "        groups[-1] = window_union\n",
    "        print(groups)\n",
    "    merged_groups = [[cur_group[0][0],cur_group[-1][1], [ss for s in cur_group for ss in s[2]]] for cur_group in groups]"
   ]
  },
  {
   "cell_type": "code",
   "execution_count": 15,
   "metadata": {},
   "outputs": [
    {
     "data": {
      "text/plain": [
       "[[1.2, 18.6, [0.32, 0.34]],\n",
       " [23.7, 24.6, [0.44]],\n",
       " [25.7, 28.4, [0.32]],\n",
       " [30.1, 38.4, [0.45, 0.34]]]"
      ]
     },
     "execution_count": 15,
     "metadata": {},
     "output_type": "execute_result"
    }
   ],
   "source": [
    "merged_groups"
   ]
  },
  {
   "cell_type": "code",
   "execution_count": 19,
   "metadata": {},
   "outputs": [
    {
     "name": "stdout",
     "output_type": "stream",
     "text": [
      "[[1.2, 18.6, [0.32, 0.34]], [23.7, 24.6, [0.44]], [25.7, 28.4, [0.32]], [30.1, 38.4, [0.45, 0.34]]]\n",
      "[[1.2, 18.6, [0.32, 0.34]], [23.7, 24.6, [0.44]], [25.7, 28.4, [0.32]], [30.1, 38.4, [0.45, 0.34]], [1.2, 18.6, [0.32, 0.34]], [23.7, 24.6, [0.44]], [25.7, 28.4, [0.32]], [30.1, 34.5, [0.45]], [35.6, 38.4, [0.34]]]\n",
      "[[1.2, 18.6, [0.32, 0.34]], [23.7, 24.6, [0.44]], [25.7, 28.4, [0.32]], [30.1, 38.4, [0.45, 0.34]], [1.2, 18.6, [0.32, 0.34]], [23.7, 24.6, [0.44]], [25.7, 28.4, [0.32]], [30.1, 34.5, [0.45]], [35.6, 38.4, [0.34]], [23.7, 24.6, [0.44]], [30.1, 34.5, [0.45]]]\n",
      "[[1.2, 18.6, [0.32, 0.34]], [23.7, 24.6, [0.44]], [25.7, 28.4, [0.32]], [30.1, 38.4, [0.45, 0.34]], [1.2, 18.6, [0.32, 0.34]], [23.7, 24.6, [0.44]], [25.7, 28.4, [0.32]], [30.1, 34.5, [0.45]], [35.6, 38.4, [0.34]], [23.7, 24.6, [0.44]], [30.1, 34.5, [0.45]], [23.7, 24.6, [0.44]], [30.1, 34.5, [0.45]]]\n"
     ]
    }
   ],
   "source": [
    "all_proposals = []\n",
    "gammas = [0.32, 0.35]\n",
    "taus = [0.85, 0.9]\n",
    "iou_threshold = 0.8\n",
    "for gamma in gammas:\n",
    "    for tau in taus:\n",
    "        all_proposals += watershed_single(windows, gamma, tau)\n",
    "        print(all_proposals)\n",
    "proposals = [[item[0], item[1], np.mean(item[2])] for item in _union(all_proposals)]\n",
    "proposals = temporal_nms(proposals, thresh = iou_threshold)\n"
   ]
  },
  {
   "cell_type": "code",
   "execution_count": 20,
   "metadata": {},
   "outputs": [
    {
     "data": {
      "text/plain": [
       "[[23.7, 24.6, 0.44],\n",
       " [30.1, 38.4, 0.41333333333333333],\n",
       " [1.2, 18.6, 0.33],\n",
       " [25.7, 28.4, 0.32]]"
      ]
     },
     "execution_count": 20,
     "metadata": {},
     "output_type": "execute_result"
    }
   ],
   "source": [
    "proposals"
   ]
  },
  {
   "cell_type": "code",
   "execution_count": 6,
   "metadata": {},
   "outputs": [],
   "source": [
    "windows = [[0.0, 3.267, 0.1974087357521057], [3.267, 31.667, 0.25133728981018066], [31.667, 36.7, 0.2245093584060669], [36.7, 43.6, 0.2003909945487976], [43.6, 50.2, 0.22681182622909546], [50.2, 51.9, 0.22681182622909546], [51.9, 59.233, 0.29440170526504517], [59.233, 78.766, 0.2975807785987854], [78.766, 98.3, 0.30237793922424316], [98.3, 104.367, 0.22737812995910645], [104.367, 107.933, 0.20067095756530762], [107.933, 113.133, 0.20931106805801392], [113.133, 123.833, 0.20816028118133545], [123.833, 129.5, 0.2564511299133301], [129.5, 142.333, 0.279940664768219], [142.333, 150.0, 0.21298527717590332]]\n",
    "all_proposals = []\n",
    "gammas = [0.24, 0.25, 0.30, 0.32, 0.34]\n",
    "taus = [0.85, 0.9]\n",
    "iou_threshold = 0.8\n",
    "for gamma in gammas:\n",
    "    for tau in taus:\n",
    "        cur_proposal =  watershed_single(windows, gamma, tau)\n",
    "        if cur_proposal != None:\n",
    "            all_proposals += cur_proposal\n",
    "        # print(all_proposals)\n",
    "proposals = [[item[0], item[1], np.mean(item[2])] for item in _union(all_proposals)]\n",
    "proposals = temporal_nms(proposals, thresh = iou_threshold)"
   ]
  },
  {
   "cell_type": "code",
   "execution_count": 7,
   "metadata": {},
   "outputs": [
    {
     "data": {
      "text/plain": [
       "[[51.9, 98.3, 0.2987283979143415],\n",
       " [123.833, 142.333, 0.26819589734077454],\n",
       " [3.267, 31.667, 0.25133728981018066]]"
      ]
     },
     "execution_count": 7,
     "metadata": {},
     "output_type": "execute_result"
    }
   ],
   "source": [
    "proposals"
   ]
  },
  {
   "cell_type": "code",
   "execution_count": null,
   "metadata": {},
   "outputs": [],
   "source": []
  }
 ],
 "metadata": {
  "kernelspec": {
   "display_name": "tf2",
   "language": "python",
   "name": "tf2"
  },
  "language_info": {
   "codemirror_mode": {
    "name": "ipython",
    "version": 3
   },
   "file_extension": ".py",
   "mimetype": "text/x-python",
   "name": "python",
   "nbconvert_exporter": "python",
   "pygments_lexer": "ipython3",
   "version": "3.9.7"
  },
  "orig_nbformat": 4
 },
 "nbformat": 4,
 "nbformat_minor": 2
}
