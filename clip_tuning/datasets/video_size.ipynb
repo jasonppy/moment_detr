{
 "cells": [
  {
   "cell_type": "code",
   "execution_count": 1,
   "metadata": {},
   "outputs": [],
   "source": [
    "import torch as th\n",
    "from torch.utils.data import Dataset\n",
    "import pandas as pd\n",
    "import os\n",
    "import numpy as np\n",
    "import ffmpeg\n",
    "import math\n",
    "import csv\n",
    "import time\n",
    "import glob\n",
    "import matplotlib.pyplot as plt\n",
    "import seaborn as sns\n",
    "import tqdm\n",
    "import json"
   ]
  },
  {
   "cell_type": "code",
   "execution_count": 2,
   "metadata": {},
   "outputs": [],
   "source": [
    "def _get_output_dim(size, h, w):\n",
    "    if isinstance(size, tuple) and len(size) == 2:\n",
    "        return size\n",
    "    elif h >= w:\n",
    "        return int(h * size / w), size\n",
    "    else:\n",
    "        return size, int(w * size / h)\n",
    "\n",
    "def convert_to_float(frac_str):\n",
    "    try:\n",
    "        return float(frac_str)\n",
    "    except ValueError:\n",
    "        try:\n",
    "            num, denom = frac_str.split('/')\n",
    "        except ValueError:\n",
    "            return None\n",
    "        try:\n",
    "            leading, num = num.split(' ')\n",
    "        except ValueError:\n",
    "            return float(num) / float(denom)\n",
    "        if float(leading) < 0:\n",
    "            sign_mult = -1\n",
    "        else:\n",
    "            sign_mult = 1\n",
    "        return float(leading) + sign_mult * (float(num) / float(denom))\n",
    "def _get_video_info(video_path):\n",
    "    probe = ffmpeg.probe(video_path)\n",
    "    video_stream = next((stream for stream in probe['streams']\n",
    "                            if stream['codec_type'] == 'video'), None)\n",
    "    width = int(video_stream['width'])\n",
    "    height = int(video_stream['height'])\n",
    "    fps = math.floor(convert_to_float(video_stream['avg_frame_rate']))\n",
    "    try:\n",
    "        frames_length = int(video_stream['nb_frames'])\n",
    "        duration = float(video_stream['duration'])\n",
    "    except Exception:\n",
    "        frames_length, duration = -1, -1\n",
    "    info = {\"duration\": duration, \"frames_length\": frames_length,\n",
    "            \"fps\": fps, \"height\": height, \"width\": width}\n",
    "    return info"
   ]
  },
  {
   "cell_type": "code",
   "execution_count": 3,
   "metadata": {},
   "outputs": [],
   "source": [
    "downloaded_fn = glob.glob(\"/saltpool0/data/pyp/vqhighlight/video/*.mkv\")\n",
    "# hs = []\n",
    "# ws = []\n",
    "# for video_path in tqdm.tqdm(downloaded_fn):\n",
    "#     info = _get_video_info(video_path)\n",
    "#     h, w = info[\"height\"], info[\"width\"]\n",
    "#     hs.append(h)\n",
    "#     ws.append(w)\n",
    "# plt.figure()\n",
    "# sns.histplot(hs)\n",
    "# plt.figure()\n",
    "# sns.histplot(ws)"
   ]
  },
  {
   "cell_type": "code",
   "execution_count": 15,
   "metadata": {},
   "outputs": [
    {
     "name": "stderr",
     "output_type": "stream",
     "text": [
      "100%|██████████| 442/442 [00:15<00:00, 28.24it/s]\n"
     ]
    },
    {
     "data": {
      "text/plain": [
       "<AxesSubplot:ylabel='Count'>"
      ]
     },
     "execution_count": 15,
     "metadata": {},
     "output_type": "execute_result"
    },
    {
     "data": {
      "image/png": "[encoded data removed]",
      "text/plain": [
       "<Figure size 432x288 with 1 Axes>"
      ]
     },
     "metadata": {
      "needs_background": "light"
     },
     "output_type": "display_data"
    },
    {
     "data": {
      "image/png": "[encoded data removed]",
      "text/plain": [
       "<Figure size 432x288 with 1 Axes>"
      ]
     },
     "metadata": {
      "needs_background": "light"
     },
     "output_type": "display_data"
    }
   ],
   "source": [
    "downloaded_fn2 = glob.glob(\"/saltpool0/data/pyp/vqhighlight/video/*.mp4\")\n",
    "hs2 = []\n",
    "ws2 = []\n",
    "for video_path in tqdm.tqdm(downloaded_fn2):\n",
    "    info = _get_video_info(video_path)\n",
    "    h, w = info[\"height\"], info[\"width\"]\n",
    "    hs2.append(h)\n",
    "    ws2.append(w)\n",
    "plt.figure()\n",
    "sns.histplot(hs2)\n",
    "plt.figure()\n",
    "sns.histplot(ws2)"
   ]
  },
  {
   "cell_type": "code",
   "execution_count": 16,
   "metadata": {},
   "outputs": [
    {
     "data": {
      "text/plain": [
       "0.5617977528089888"
      ]
     },
     "execution_count": 16,
     "metadata": {},
     "output_type": "execute_result"
    }
   ],
   "source": [
    "300/534"
   ]
  },
  {
   "cell_type": "code",
   "execution_count": 28,
   "metadata": {},
   "outputs": [
    {
     "data": {
      "text/plain": [
       "1281.6"
      ]
     },
     "execution_count": 28,
     "metadata": {},
     "output_type": "execute_result"
    }
   ],
   "source": [
    "720/(300/534)"
   ]
  },
  {
   "cell_type": "code",
   "execution_count": 19,
   "metadata": {},
   "outputs": [
    {
     "name": "stdout",
     "output_type": "stream",
     "text": [
      "original video size: 720x1280\n",
      "scale the video to 256x455\n",
      "final video frame size: 256x455\n"
     ]
    }
   ],
   "source": [
    "# so for mp4, videos are all 300 * 534\n",
    "# for mkv, videos are mostly 720 * 1280\n",
    "overwrite = True\n",
    "framerate = 1\n",
    "size = 256\n",
    "centercrop = False\n",
    "video_path = downloaded_fn[1000]\n",
    "load_flag = os.path.isfile(video_path)\n",
    "\n",
    "if load_flag:\n",
    "    # print('Decoding video: {}'.format(video_path))\n",
    "    try:\n",
    "        info = _get_video_info(video_path)\n",
    "        h, w = info[\"height\"], info[\"width\"]\n",
    "        print(f\"original video size: {h}x{w}\")\n",
    "    except Exception:\n",
    "        print('ffprobe failed at: {}'.format(video_path))\n",
    "        # return {'video': th.zeros(1), 'input': video_path,\n",
    "        #         'output': output_file, 'info': {}}\n",
    "    height, width = _get_output_dim(size, h, w)\n",
    "    print(f\"scale the video to {height}x{width}\")\n",
    "    try:\n",
    "        duration = info[\"duration\"]\n",
    "        fps = framerate\n",
    "        if duration > 0 and duration < 1/fps+0.1:\n",
    "            fps = 2/max(int(duration), 1)\n",
    "            print(duration, fps)\n",
    "    except Exception:\n",
    "        fps = framerate\n",
    "    all_video = []\n",
    "    all_len = []\n",
    "    cmd = (\n",
    "            ffmpeg\n",
    "            .input(video_path)\n",
    "            .filter('fps', fps=fps)\n",
    "            .filter('scale', width, height)\n",
    "            )\n",
    "    if centercrop:\n",
    "        x = int((width - size) / 2.0)\n",
    "        y = int((height - size) / 2.0)\n",
    "        cmd = cmd.crop(x, y, size, size)\n",
    "        print(f\"x: {x}, y:{y}, size: {size}\")\n",
    "    s_time = time.time()\n",
    "    out_fn = \"./test\"\n",
    "    out, _ = (\n",
    "        # cmd.output('pipe:', format='rawvideo', pix_fmt='rgb24')\n",
    "        cmd.output(out_fn+'/'+'test-%d.jpg', start_number=0)\n",
    "        .overwrite_output()\n",
    "        .run(capture_stdout=True, quiet=True)\n",
    "    )\n",
    "    # print(f\"ffmpeg time: {time.time() - s_time:.4f}\")\n",
    "    if centercrop and isinstance(size, int):\n",
    "        height, width = size, size\n",
    "    video = np.frombuffer(out, np.uint8).reshape(\n",
    "        [-1, height, width, 3])\n",
    "    # T, H, W, C = video.shape\n",
    "    # video = th.IntTensor(video)\n",
    "    # video = video.permute(0, 3, 1, 2).numpy() # T, C, H, W\n",
    "    video = video.transpose((0, 3, 1, 2))\n",
    "        # print(f\"final video frame size: {video.shape[-2]}x{video.shape[-1]}\")\n",
    "    # np.savez_compressed(\"temp.npz\", **{\"video\": video})\n",
    "    print(f\"final video frame size: {video.shape[-2]}x{video.shape[-1]}\")"
   ]
  },
  {
   "cell_type": "code",
   "execution_count": 20,
   "metadata": {},
   "outputs": [
    {
     "name": "stdout",
     "output_type": "stream",
     "text": [
      "2.711531162261963\n"
     ]
    }
   ],
   "source": [
    "time_s = time.time()\n",
    "for _ in range(10):\n",
    "    _ = dict(np.load(\"temp.npz\"))['video']\n",
    "print(time.time() - time_s)"
   ]
  },
  {
   "cell_type": "code",
   "execution_count": 18,
   "metadata": {},
   "outputs": [
    {
     "name": "stdout",
     "output_type": "stream",
     "text": [
      "0.23798441886901855\n"
     ]
    }
   ],
   "source": [
    "time_s = time.time()\n",
    "for _ in range(10):\n",
    "    _ = np.load(\"temp.npy\")\n",
    "print(time.time() - time_s)"
   ]
  },
  {
   "cell_type": "code",
   "execution_count": 16,
   "metadata": {},
   "outputs": [
    {
     "name": "stdout",
     "output_type": "stream",
     "text": [
      "1.6146492958068848\n"
     ]
    }
   ],
   "source": [
    "import cv2\n",
    "from PIL import Image\n",
    "time_s = time.time()\n",
    "for _ in range(10):\n",
    "    for i in range(150):\n",
    "        # image = np.array(Image.open(f\"test-{i}.jpg\"))\n",
    "        image = cv2.imread(f\"test-{i}.jpg\")\n",
    "print(time.time() - time_s)"
   ]
  },
  {
   "cell_type": "code",
   "execution_count": 14,
   "metadata": {},
   "outputs": [
    {
     "data": {
      "text/plain": [
       "(256, 455, 3)"
      ]
     },
     "execution_count": 14,
     "metadata": {},
     "output_type": "execute_result"
    }
   ],
   "source": [
    "np.array(image).shape"
   ]
  },
  {
   "cell_type": "code",
   "execution_count": 18,
   "metadata": {},
   "outputs": [
    {
     "data": {
      "text/plain": [
       "(256, 455, 3)"
      ]
     },
     "execution_count": 18,
     "metadata": {},
     "output_type": "execute_result"
    }
   ],
   "source": [
    "image.shape"
   ]
  },
  {
   "cell_type": "code",
   "execution_count": 9,
   "metadata": {},
   "outputs": [
    {
     "name": "stdout",
     "output_type": "stream",
     "text": [
      "full cound:  1550\n",
      "total zero neg instance:  52\n",
      "total instances:  1550\n"
     ]
    },
    {
     "data": {
      "image/png": "[encoded data removed]",
      "text/plain": [
       "<Figure size 432x288 with 1 Axes>"
      ]
     },
     "metadata": {
      "needs_background": "light"
     },
     "output_type": "display_data"
    }
   ],
   "source": [
    "def load_jsonl(filename):\n",
    "    with open(filename, \"r\") as f:\n",
    "        return [json.loads(l.strip(\"\\n\")) for l in f.readlines()]\n",
    "data = load_jsonl(\"/home/pyp/vqhighlight/data/highlight_val_release.jsonl\")\n",
    "positive_ranges = [] # in frames (int)\n",
    "negative_ranges = [] # in frames (int)\n",
    "time_s = time.time()\n",
    "total_count = []\n",
    "zero_count = 0\n",
    "full_count = 0\n",
    "for item in data:\n",
    "    vid = item['vid']\n",
    "    image_files = glob.glob(os.path.join(\"/saltpool0/data/pyp/vqhighlight/image\", \"framerate1\", vid, \"*.jpg\"))\n",
    "    total_range = list(range(len(image_files)))\n",
    "    if len(total_range) > 100:\n",
    "        full_count += 1\n",
    "\n",
    "    # print(\"total images: \", len(total_range))\n",
    "    total_count.append(len(total_range))\n",
    "    positive_range = []\n",
    "    for s,e in item['relevant_windows']:\n",
    "        positive_range += list(range(int(s), int(e)))\n",
    "    # print(\"positive images\", len(positive_range))\n",
    "    positive_ranges.append(positive_range)\n",
    "    negative_range = list(set(total_range).difference(set(positive_range)))\n",
    "    # print(\"negative images\", len(negative_range))\n",
    "    if len(negative_range) == 0:\n",
    "        zero_count += 1\n",
    "    negative_ranges.append(negative_range)\n",
    "plt.figure()\n",
    "sns.histplot(total_count)\n",
    "# plt.savefig(\"total_count.jpg\")\n",
    "print(\"full cound: \", full_count)\n",
    "print(\"total zero neg instance: \", zero_count)\n",
    "print(\"total instances: \", len(total_count))"
   ]
  },
  {
   "cell_type": "code",
   "execution_count": 3,
   "metadata": {},
   "outputs": [
    {
     "name": "stdout",
     "output_type": "stream",
     "text": [
      "full cound:  1550\n",
      "total instances:  1550\n"
     ]
    },
    {
     "data": {
      "image/png": "[encoded data removed]",
      "text/plain": [
       "<Figure size 432x288 with 1 Axes>"
      ]
     },
     "metadata": {
      "needs_background": "light"
     },
     "output_type": "display_data"
    }
   ],
   "source": [
    "def load_jsonl(filename):\n",
    "    with open(filename, \"r\") as f:\n",
    "        return [json.loads(l.strip(\"\\n\")) for l in f.readlines()]\n",
    "data = load_jsonl(\"/home/pyp/vqhighlight/data/highlight_val_release.jsonl\")\n",
    "positive_ranges = [] # in frames (int)\n",
    "negative_ranges = [] # in frames (int)\n",
    "time_s = time.time()\n",
    "total_count = []\n",
    "zero_count = 0\n",
    "full_count = 0\n",
    "for item in data:\n",
    "    vid = item['vid']\n",
    "    image_files = glob.glob(os.path.join(\"/saltpool0/data/pyp/vqhighlight/image\", \"framerate1\", vid, \"*.jpg\"))\n",
    "    total_range = list(range(len(image_files)))\n",
    "    if len(total_range) > 100:\n",
    "        full_count += 1\n",
    "\n",
    "    # print(\"total images: \", len(total_range))\n",
    "    total_count.append(len(total_range))\n",
    "    positive_range = []\n",
    "    # for s,e in item['relevant_windows']:\n",
    "    #     positive_range += list(range(int(s), int(e)))\n",
    "    # # print(\"positive images\", len(positive_range))\n",
    "    # positive_ranges.append(positive_range)\n",
    "    # negative_range = list(set(total_range).difference(set(positive_range)))\n",
    "    # # print(\"negative images\", len(negative_range))\n",
    "    # if len(negative_range) == 0:\n",
    "    #     zero_count += 1\n",
    "    # negative_ranges.append(negative_range)\n",
    "plt.figure()\n",
    "sns.histplot(total_count)\n",
    "# plt.savefig(\"total_count.jpg\")\n",
    "print(\"full cound: \", full_count)\n",
    "# print(\"total zero neg instance: \", zero_count)\n",
    "print(\"total instances: \", len(total_count))"
   ]
  },
  {
   "cell_type": "code",
   "execution_count": null,
   "metadata": {},
   "outputs": [],
   "source": []
  }
 ],
 "metadata": {
  "interpreter": {
   "hash": "6e4ff504106a9ad7bb1685dd81f14045a7c1eed6a4dae2d438dd7f617b6aea10"
  },
  "kernelspec": {
   "display_name": "Python 3.9.7 64-bit ('tf2': conda)",
   "name": "python3"
  },
  "language_info": {
   "codemirror_mode": {
    "name": "ipython",
    "version": 3
   },
   "file_extension": ".py",
   "mimetype": "text/x-python",
   "name": "python",
   "nbconvert_exporter": "python",
   "pygments_lexer": "ipython3",
   "version": "3.9.7"
  },
  "orig_nbformat": 4
 },
 "nbformat": 4,
 "nbformat_minor": 2
}
